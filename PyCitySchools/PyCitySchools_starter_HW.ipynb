{
 "cells": [
  {
   "cell_type": "markdown",
   "metadata": {},
   "source": [
    "### Note\n",
    "* Instructions have been included for each segment. You do not have to follow them exactly, but they are included to help you think through the steps."
   ]
  },
  {
   "cell_type": "code",
   "execution_count": 1,
   "metadata": {},
   "outputs": [],
   "source": [
    "# Dependencies and Setup\n",
    "\n",
    "import csv\n",
    "import pandas as pd\n",
    "import numpy as np\n",
    "import matplotlib.pyplot as plt"
   ]
  },
  {
   "cell_type": "code",
   "execution_count": 2,
   "metadata": {},
   "outputs": [],
   "source": [
    "# Read School and Student Data File and store into Pandas Data Frames\n",
    "\n",
    "school_data_to_load = \"Resources/schools_complete.csv\"\n",
    "student_data_to_load = \"Resources/students_complete.csv\""
   ]
  },
  {
   "cell_type": "code",
   "execution_count": 3,
   "metadata": {},
   "outputs": [],
   "source": [
    "# Read School and Student Data File and store into Pandas Data Frames\n",
    "\n",
    "school_data = pd.read_csv(school_data_to_load)\n",
    "student_data = pd.read_csv(student_data_to_load)"
   ]
  },
  {
   "cell_type": "code",
   "execution_count": 4,
   "metadata": {},
   "outputs": [],
   "source": [
    "# Combine the data into a single dataset\n",
    "\n",
    "all_data = pd.merge(student_data, school_data, how=\"left\", on=[\"school_name\", \"school_name\"])"
   ]
  },
  {
   "cell_type": "code",
   "execution_count": 5,
   "metadata": {},
   "outputs": [
    {
     "data": {
      "text/html": [
       "<div>\n",
       "<style scoped>\n",
       "    .dataframe tbody tr th:only-of-type {\n",
       "        vertical-align: middle;\n",
       "    }\n",
       "\n",
       "    .dataframe tbody tr th {\n",
       "        vertical-align: top;\n",
       "    }\n",
       "\n",
       "    .dataframe thead th {\n",
       "        text-align: right;\n",
       "    }\n",
       "</style>\n",
       "<table border=\"1\" class=\"dataframe\">\n",
       "  <thead>\n",
       "    <tr style=\"text-align: right;\">\n",
       "      <th></th>\n",
       "      <th>Student ID</th>\n",
       "      <th>student_name</th>\n",
       "      <th>gender</th>\n",
       "      <th>grade</th>\n",
       "      <th>school_name</th>\n",
       "      <th>reading_score</th>\n",
       "      <th>math_score</th>\n",
       "      <th>School ID</th>\n",
       "      <th>type</th>\n",
       "      <th>size</th>\n",
       "      <th>budget</th>\n",
       "    </tr>\n",
       "  </thead>\n",
       "  <tbody>\n",
       "    <tr>\n",
       "      <th>0</th>\n",
       "      <td>0</td>\n",
       "      <td>Paul Bradley</td>\n",
       "      <td>M</td>\n",
       "      <td>9th</td>\n",
       "      <td>Huang High School</td>\n",
       "      <td>66</td>\n",
       "      <td>79</td>\n",
       "      <td>0</td>\n",
       "      <td>District</td>\n",
       "      <td>2917</td>\n",
       "      <td>1910635</td>\n",
       "    </tr>\n",
       "    <tr>\n",
       "      <th>1</th>\n",
       "      <td>1</td>\n",
       "      <td>Victor Smith</td>\n",
       "      <td>M</td>\n",
       "      <td>12th</td>\n",
       "      <td>Huang High School</td>\n",
       "      <td>94</td>\n",
       "      <td>61</td>\n",
       "      <td>0</td>\n",
       "      <td>District</td>\n",
       "      <td>2917</td>\n",
       "      <td>1910635</td>\n",
       "    </tr>\n",
       "    <tr>\n",
       "      <th>2</th>\n",
       "      <td>2</td>\n",
       "      <td>Kevin Rodriguez</td>\n",
       "      <td>M</td>\n",
       "      <td>12th</td>\n",
       "      <td>Huang High School</td>\n",
       "      <td>90</td>\n",
       "      <td>60</td>\n",
       "      <td>0</td>\n",
       "      <td>District</td>\n",
       "      <td>2917</td>\n",
       "      <td>1910635</td>\n",
       "    </tr>\n",
       "    <tr>\n",
       "      <th>3</th>\n",
       "      <td>3</td>\n",
       "      <td>Dr. Richard Scott</td>\n",
       "      <td>M</td>\n",
       "      <td>12th</td>\n",
       "      <td>Huang High School</td>\n",
       "      <td>67</td>\n",
       "      <td>58</td>\n",
       "      <td>0</td>\n",
       "      <td>District</td>\n",
       "      <td>2917</td>\n",
       "      <td>1910635</td>\n",
       "    </tr>\n",
       "    <tr>\n",
       "      <th>4</th>\n",
       "      <td>4</td>\n",
       "      <td>Bonnie Ray</td>\n",
       "      <td>F</td>\n",
       "      <td>9th</td>\n",
       "      <td>Huang High School</td>\n",
       "      <td>97</td>\n",
       "      <td>84</td>\n",
       "      <td>0</td>\n",
       "      <td>District</td>\n",
       "      <td>2917</td>\n",
       "      <td>1910635</td>\n",
       "    </tr>\n",
       "  </tbody>\n",
       "</table>\n",
       "</div>"
      ],
      "text/plain": [
       "   Student ID       student_name gender grade        school_name  \\\n",
       "0           0       Paul Bradley      M   9th  Huang High School   \n",
       "1           1       Victor Smith      M  12th  Huang High School   \n",
       "2           2    Kevin Rodriguez      M  12th  Huang High School   \n",
       "3           3  Dr. Richard Scott      M  12th  Huang High School   \n",
       "4           4         Bonnie Ray      F   9th  Huang High School   \n",
       "\n",
       "   reading_score  math_score  School ID      type  size   budget  \n",
       "0             66          79          0  District  2917  1910635  \n",
       "1             94          61          0  District  2917  1910635  \n",
       "2             90          60          0  District  2917  1910635  \n",
       "3             67          58          0  District  2917  1910635  \n",
       "4             97          84          0  District  2917  1910635  "
      ]
     },
     "execution_count": 5,
     "metadata": {},
     "output_type": "execute_result"
    }
   ],
   "source": [
    "# All Data Top 5\n",
    "\n",
    "all_data.head()"
   ]
  },
  {
   "cell_type": "code",
   "execution_count": 6,
   "metadata": {},
   "outputs": [
    {
     "data": {
      "text/html": [
       "<div>\n",
       "<style scoped>\n",
       "    .dataframe tbody tr th:only-of-type {\n",
       "        vertical-align: middle;\n",
       "    }\n",
       "\n",
       "    .dataframe tbody tr th {\n",
       "        vertical-align: top;\n",
       "    }\n",
       "\n",
       "    .dataframe thead th {\n",
       "        text-align: right;\n",
       "    }\n",
       "</style>\n",
       "<table border=\"1\" class=\"dataframe\">\n",
       "  <thead>\n",
       "    <tr style=\"text-align: right;\">\n",
       "      <th></th>\n",
       "      <th>School ID</th>\n",
       "      <th>school_name</th>\n",
       "      <th>type</th>\n",
       "      <th>size</th>\n",
       "      <th>budget</th>\n",
       "    </tr>\n",
       "  </thead>\n",
       "  <tbody>\n",
       "    <tr>\n",
       "      <th>0</th>\n",
       "      <td>0</td>\n",
       "      <td>Huang High School</td>\n",
       "      <td>District</td>\n",
       "      <td>2917</td>\n",
       "      <td>1910635</td>\n",
       "    </tr>\n",
       "    <tr>\n",
       "      <th>1</th>\n",
       "      <td>1</td>\n",
       "      <td>Figueroa High School</td>\n",
       "      <td>District</td>\n",
       "      <td>2949</td>\n",
       "      <td>1884411</td>\n",
       "    </tr>\n",
       "    <tr>\n",
       "      <th>2</th>\n",
       "      <td>2</td>\n",
       "      <td>Shelton High School</td>\n",
       "      <td>Charter</td>\n",
       "      <td>1761</td>\n",
       "      <td>1056600</td>\n",
       "    </tr>\n",
       "    <tr>\n",
       "      <th>3</th>\n",
       "      <td>3</td>\n",
       "      <td>Hernandez High School</td>\n",
       "      <td>District</td>\n",
       "      <td>4635</td>\n",
       "      <td>3022020</td>\n",
       "    </tr>\n",
       "    <tr>\n",
       "      <th>4</th>\n",
       "      <td>4</td>\n",
       "      <td>Griffin High School</td>\n",
       "      <td>Charter</td>\n",
       "      <td>1468</td>\n",
       "      <td>917500</td>\n",
       "    </tr>\n",
       "  </tbody>\n",
       "</table>\n",
       "</div>"
      ],
      "text/plain": [
       "   School ID            school_name      type  size   budget\n",
       "0          0      Huang High School  District  2917  1910635\n",
       "1          1   Figueroa High School  District  2949  1884411\n",
       "2          2    Shelton High School   Charter  1761  1056600\n",
       "3          3  Hernandez High School  District  4635  3022020\n",
       "4          4    Griffin High School   Charter  1468   917500"
      ]
     },
     "execution_count": 6,
     "metadata": {},
     "output_type": "execute_result"
    }
   ],
   "source": [
    "# School Data Top 5\n",
    "\n",
    "school_data.head()"
   ]
  },
  {
   "cell_type": "code",
   "execution_count": 7,
   "metadata": {},
   "outputs": [
    {
     "data": {
      "text/html": [
       "<div>\n",
       "<style scoped>\n",
       "    .dataframe tbody tr th:only-of-type {\n",
       "        vertical-align: middle;\n",
       "    }\n",
       "\n",
       "    .dataframe tbody tr th {\n",
       "        vertical-align: top;\n",
       "    }\n",
       "\n",
       "    .dataframe thead th {\n",
       "        text-align: right;\n",
       "    }\n",
       "</style>\n",
       "<table border=\"1\" class=\"dataframe\">\n",
       "  <thead>\n",
       "    <tr style=\"text-align: right;\">\n",
       "      <th></th>\n",
       "      <th>Student ID</th>\n",
       "      <th>student_name</th>\n",
       "      <th>gender</th>\n",
       "      <th>grade</th>\n",
       "      <th>school_name</th>\n",
       "      <th>reading_score</th>\n",
       "      <th>math_score</th>\n",
       "    </tr>\n",
       "  </thead>\n",
       "  <tbody>\n",
       "    <tr>\n",
       "      <th>0</th>\n",
       "      <td>0</td>\n",
       "      <td>Paul Bradley</td>\n",
       "      <td>M</td>\n",
       "      <td>9th</td>\n",
       "      <td>Huang High School</td>\n",
       "      <td>66</td>\n",
       "      <td>79</td>\n",
       "    </tr>\n",
       "    <tr>\n",
       "      <th>1</th>\n",
       "      <td>1</td>\n",
       "      <td>Victor Smith</td>\n",
       "      <td>M</td>\n",
       "      <td>12th</td>\n",
       "      <td>Huang High School</td>\n",
       "      <td>94</td>\n",
       "      <td>61</td>\n",
       "    </tr>\n",
       "    <tr>\n",
       "      <th>2</th>\n",
       "      <td>2</td>\n",
       "      <td>Kevin Rodriguez</td>\n",
       "      <td>M</td>\n",
       "      <td>12th</td>\n",
       "      <td>Huang High School</td>\n",
       "      <td>90</td>\n",
       "      <td>60</td>\n",
       "    </tr>\n",
       "    <tr>\n",
       "      <th>3</th>\n",
       "      <td>3</td>\n",
       "      <td>Dr. Richard Scott</td>\n",
       "      <td>M</td>\n",
       "      <td>12th</td>\n",
       "      <td>Huang High School</td>\n",
       "      <td>67</td>\n",
       "      <td>58</td>\n",
       "    </tr>\n",
       "    <tr>\n",
       "      <th>4</th>\n",
       "      <td>4</td>\n",
       "      <td>Bonnie Ray</td>\n",
       "      <td>F</td>\n",
       "      <td>9th</td>\n",
       "      <td>Huang High School</td>\n",
       "      <td>97</td>\n",
       "      <td>84</td>\n",
       "    </tr>\n",
       "  </tbody>\n",
       "</table>\n",
       "</div>"
      ],
      "text/plain": [
       "   Student ID       student_name gender grade        school_name  \\\n",
       "0           0       Paul Bradley      M   9th  Huang High School   \n",
       "1           1       Victor Smith      M  12th  Huang High School   \n",
       "2           2    Kevin Rodriguez      M  12th  Huang High School   \n",
       "3           3  Dr. Richard Scott      M  12th  Huang High School   \n",
       "4           4         Bonnie Ray      F   9th  Huang High School   \n",
       "\n",
       "   reading_score  math_score  \n",
       "0             66          79  \n",
       "1             94          61  \n",
       "2             90          60  \n",
       "3             67          58  \n",
       "4             97          84  "
      ]
     },
     "execution_count": 7,
     "metadata": {},
     "output_type": "execute_result"
    }
   ],
   "source": [
    "# Student Data Top 5\n",
    "\n",
    "student_data.head()"
   ]
  },
  {
   "cell_type": "markdown",
   "metadata": {},
   "source": [
    "## District Summary\n",
    "\n",
    "* Calculate the total number of schools\n",
    "\n",
    "* Calculate the total number of students\n",
    "\n",
    "* Calculate the total budget\n",
    "\n",
    "* Calculate the average math score \n",
    "\n",
    "* Calculate the average reading score\n",
    "\n",
    "* Calculate the overall passing rate (overall average score), i.e. (avg. math score + avg. reading score)/2\n",
    "\n",
    "* Calculate the percentage of students with a passing math score (70 or greater)\n",
    "\n",
    "* Calculate the percentage of students with a passing reading score (70 or greater)\n",
    "\n",
    "* Create a dataframe to hold the above results\n",
    "\n",
    "* Optional: give the displayed data cleaner formatting"
   ]
  },
  {
   "cell_type": "code",
   "execution_count": 8,
   "metadata": {},
   "outputs": [
    {
     "data": {
      "text/plain": [
       "15"
      ]
     },
     "execution_count": 8,
     "metadata": {},
     "output_type": "execute_result"
    }
   ],
   "source": [
    "# Total Count of Schools\n",
    "\n",
    "school_total = school_data[\"school_name\"].count()\n",
    "school_total"
   ]
  },
  {
   "cell_type": "code",
   "execution_count": 9,
   "metadata": {},
   "outputs": [
    {
     "data": {
      "text/plain": [
       "39170"
      ]
     },
     "execution_count": 9,
     "metadata": {},
     "output_type": "execute_result"
    }
   ],
   "source": [
    "# Total Count of Students\n",
    "\n",
    "student_total = all_data[\"student_name\"].count()\n",
    "student_total"
   ]
  },
  {
   "cell_type": "code",
   "execution_count": 10,
   "metadata": {},
   "outputs": [
    {
     "data": {
      "text/plain": [
       "24649428"
      ]
     },
     "execution_count": 10,
     "metadata": {},
     "output_type": "execute_result"
    }
   ],
   "source": [
    "# Total Budget\n",
    "\n",
    "budget_total = school_data[\"budget\"].sum()\n",
    "budget_total"
   ]
  },
  {
   "cell_type": "code",
   "execution_count": 11,
   "metadata": {},
   "outputs": [
    {
     "data": {
      "text/plain": [
       "78.98537145774827"
      ]
     },
     "execution_count": 11,
     "metadata": {},
     "output_type": "execute_result"
    }
   ],
   "source": [
    "# Average Math Scores\n",
    "\n",
    "math_average = all_data[\"math_score\"].mean()\n",
    "math_average"
   ]
  },
  {
   "cell_type": "code",
   "execution_count": 12,
   "metadata": {},
   "outputs": [
    {
     "data": {
      "text/plain": [
       "81.87784018381414"
      ]
     },
     "execution_count": 12,
     "metadata": {},
     "output_type": "execute_result"
    }
   ],
   "source": [
    "# Average Reading Scores\n",
    "\n",
    "reading_average = all_data[\"reading_score\"].mean()\n",
    "reading_average"
   ]
  },
  {
   "cell_type": "code",
   "execution_count": 13,
   "metadata": {},
   "outputs": [
    {
     "data": {
      "text/plain": [
       "72.39213683941792"
      ]
     },
     "execution_count": 13,
     "metadata": {},
     "output_type": "execute_result"
    }
   ],
   "source": [
    "# Percent Passing Math\n",
    "\n",
    "passing_math = (all_data[\"math_score\"]>70).sum() / all_data[\"math_score\"].count()* 100\n",
    "passing_math"
   ]
  },
  {
   "cell_type": "code",
   "execution_count": 14,
   "metadata": {},
   "outputs": [
    {
     "data": {
      "text/plain": [
       "82.97166198621395"
      ]
     },
     "execution_count": 14,
     "metadata": {},
     "output_type": "execute_result"
    }
   ],
   "source": [
    "# Percent Passing Reading\n",
    "\n",
    "passing_reading = (all_data[\"reading_score\"]>70).sum() / all_data[\"reading_score\"].count()* 100\n",
    "passing_reading"
   ]
  },
  {
   "cell_type": "code",
   "execution_count": 15,
   "metadata": {},
   "outputs": [
    {
     "data": {
      "text/plain": [
       "80.43160582078121"
      ]
     },
     "execution_count": 15,
     "metadata": {},
     "output_type": "execute_result"
    }
   ],
   "source": [
    "# Percent Overall Passing\n",
    "overall = ((reading_average + math_average) /2)\n",
    "overall"
   ]
  },
  {
   "cell_type": "code",
   "execution_count": 16,
   "metadata": {},
   "outputs": [
    {
     "data": {
      "text/html": [
       "<div>\n",
       "<style scoped>\n",
       "    .dataframe tbody tr th:only-of-type {\n",
       "        vertical-align: middle;\n",
       "    }\n",
       "\n",
       "    .dataframe tbody tr th {\n",
       "        vertical-align: top;\n",
       "    }\n",
       "\n",
       "    .dataframe thead th {\n",
       "        text-align: right;\n",
       "    }\n",
       "</style>\n",
       "<table border=\"1\" class=\"dataframe\">\n",
       "  <thead>\n",
       "    <tr style=\"text-align: right;\">\n",
       "      <th></th>\n",
       "      <th>Total Schools</th>\n",
       "      <th>Total Students</th>\n",
       "      <th>Total Budget</th>\n",
       "      <th>Average Math Score</th>\n",
       "      <th>Reading Math Score</th>\n",
       "      <th>% Passing Math</th>\n",
       "      <th>% Passing Reading</th>\n",
       "      <th>% Overall Passing Rate</th>\n",
       "    </tr>\n",
       "  </thead>\n",
       "  <tbody>\n",
       "    <tr>\n",
       "      <th>0</th>\n",
       "      <td>15</td>\n",
       "      <td>39170</td>\n",
       "      <td>24649428</td>\n",
       "      <td>78.985371</td>\n",
       "      <td>81.87784</td>\n",
       "      <td>72.392137</td>\n",
       "      <td>82.971662</td>\n",
       "      <td>80.431606</td>\n",
       "    </tr>\n",
       "  </tbody>\n",
       "</table>\n",
       "</div>"
      ],
      "text/plain": [
       "   Total Schools  Total Students  Total Budget  Average Math Score  \\\n",
       "0             15           39170      24649428           78.985371   \n",
       "\n",
       "   Reading Math Score  % Passing Math  % Passing Reading  \\\n",
       "0            81.87784       72.392137          82.971662   \n",
       "\n",
       "   % Overall Passing Rate  \n",
       "0               80.431606  "
      ]
     },
     "execution_count": 16,
     "metadata": {},
     "output_type": "execute_result"
    }
   ],
   "source": [
    "# District Summary Table\n",
    "\n",
    "district_summary_table = pd.DataFrame({\"Total Schools\":[school_total], \"Total Students\":[student_total], \"Total Budget\":[budget_total], \"Average Math Score\":[math_average], \"Reading Math Score\":[reading_average], \"% Passing Math\":[passing_math], \"% Passing Reading\":[passing_reading], \"% Overall Passing Rate\":[overall]})\n",
    "district_summary_table"
   ]
  },
  {
   "cell_type": "markdown",
   "metadata": {},
   "source": [
    "## School Summary"
   ]
  },
  {
   "cell_type": "markdown",
   "metadata": {},
   "source": [
    "* Create an overview table that summarizes key metrics about each school, including:\n",
    "  * School Name\n",
    "  * School Type\n",
    "  * Total Students\n",
    "  * Total School Budget\n",
    "  * Per Student Budget\n",
    "  * Average Math Score\n",
    "  * Average Reading Score\n",
    "  * % Passing Math\n",
    "  * % Passing Reading\n",
    "  * Overall Passing Rate (Average of the above two)\n",
    "  \n",
    "* Create a dataframe to hold the above results"
   ]
  },
  {
   "cell_type": "code",
   "execution_count": 17,
   "metadata": {},
   "outputs": [
    {
     "data": {
      "text/plain": [
       "15"
      ]
     },
     "execution_count": 17,
     "metadata": {},
     "output_type": "execute_result"
    }
   ],
   "source": [
    "# School Count\n",
    "\n",
    "school_count = len(all_data[\"school_name\"].unique())\n",
    "school_count"
   ]
  },
  {
   "cell_type": "code",
   "execution_count": 18,
   "metadata": {},
   "outputs": [
    {
     "data": {
      "text/plain": [
       "school_name\n",
       "Huang High School        District\n",
       "Figueroa High School     District\n",
       "Shelton High School       Charter\n",
       "Hernandez High School    District\n",
       "Griffin High School       Charter\n",
       "Wilson High School        Charter\n",
       "Cabrera High School       Charter\n",
       "Bailey High School       District\n",
       "Holden High School        Charter\n",
       "Pena High School          Charter\n",
       "Wright High School        Charter\n",
       "Rodriguez High School    District\n",
       "Johnson High School      District\n",
       "Ford High School         District\n",
       "Thomas High School        Charter\n",
       "Name: type, dtype: object"
      ]
     },
     "execution_count": 18,
     "metadata": {},
     "output_type": "execute_result"
    }
   ],
   "source": [
    "# School Types\n",
    "\n",
    "school_type = school_data.set_index([\"school_name\"])[\"type\"]\n",
    "school_type"
   ]
  },
  {
   "cell_type": "code",
   "execution_count": 19,
   "metadata": {},
   "outputs": [
    {
     "data": {
      "text/plain": [
       "school_name\n",
       "Bailey High School       4976\n",
       "Cabrera High School      1858\n",
       "Figueroa High School     2949\n",
       "Ford High School         2739\n",
       "Griffin High School      1468\n",
       "Hernandez High School    4635\n",
       "Holden High School        427\n",
       "Huang High School        2917\n",
       "Johnson High School      4761\n",
       "Pena High School          962\n",
       "Rodriguez High School    3999\n",
       "Shelton High School      1761\n",
       "Thomas High School       1635\n",
       "Wilson High School       2283\n",
       "Wright High School       1800\n",
       "Name: size, dtype: int64"
      ]
     },
     "execution_count": 19,
     "metadata": {},
     "output_type": "execute_result"
    }
   ],
   "source": [
    "#Students per School\n",
    "\n",
    "student_per_school= all_data.groupby([\"school_name\"])[\"size\"].mean()\n",
    "student_per_school"
   ]
  },
  {
   "cell_type": "code",
   "execution_count": 20,
   "metadata": {},
   "outputs": [
    {
     "data": {
      "text/plain": [
       "school_name\n",
       "Bailey High School       3124928\n",
       "Cabrera High School      1081356\n",
       "Figueroa High School     1884411\n",
       "Ford High School         1763916\n",
       "Griffin High School       917500\n",
       "Hernandez High School    3022020\n",
       "Holden High School        248087\n",
       "Huang High School        1910635\n",
       "Johnson High School      3094650\n",
       "Pena High School          585858\n",
       "Rodriguez High School    2547363\n",
       "Shelton High School      1056600\n",
       "Thomas High School       1043130\n",
       "Wilson High School       1319574\n",
       "Wright High School       1049400\n",
       "Name: budget, dtype: int64"
      ]
     },
     "execution_count": 20,
     "metadata": {},
     "output_type": "execute_result"
    }
   ],
   "source": [
    "# Total Budget\n",
    "\n",
    "school_budget = all_data.groupby([\"school_name\"])[\"budget\"].mean()\n",
    "school_budget"
   ]
  },
  {
   "cell_type": "code",
   "execution_count": 21,
   "metadata": {},
   "outputs": [
    {
     "data": {
      "text/plain": [
       "school_name\n",
       "Bailey High School       628.0\n",
       "Cabrera High School      582.0\n",
       "Figueroa High School     639.0\n",
       "Ford High School         644.0\n",
       "Griffin High School      625.0\n",
       "Hernandez High School    652.0\n",
       "Holden High School       581.0\n",
       "Huang High School        655.0\n",
       "Johnson High School      650.0\n",
       "Pena High School         609.0\n",
       "Rodriguez High School    637.0\n",
       "Shelton High School      600.0\n",
       "Thomas High School       638.0\n",
       "Wilson High School       578.0\n",
       "Wright High School       583.0\n",
       "dtype: float64"
      ]
     },
     "execution_count": 21,
     "metadata": {},
     "output_type": "execute_result"
    }
   ],
   "source": [
    "# Per Student Budget\n",
    "\n",
    "per_student_budget = school_budget/student_per_school\n",
    "per_student_budget"
   ]
  },
  {
   "cell_type": "code",
   "execution_count": 22,
   "metadata": {},
   "outputs": [
    {
     "data": {
      "text/plain": [
       "school_name\n",
       "Bailey High School       77.048432\n",
       "Cabrera High School      83.061895\n",
       "Figueroa High School     76.711767\n",
       "Ford High School         77.102592\n",
       "Griffin High School      83.351499\n",
       "Hernandez High School    77.289752\n",
       "Holden High School       83.803279\n",
       "Huang High School        76.629414\n",
       "Johnson High School      77.072464\n",
       "Pena High School         83.839917\n",
       "Rodriguez High School    76.842711\n",
       "Shelton High School      83.359455\n",
       "Thomas High School       83.418349\n",
       "Wilson High School       83.274201\n",
       "Wright High School       83.682222\n",
       "Name: math_score, dtype: float64"
      ]
     },
     "execution_count": 22,
     "metadata": {},
     "output_type": "execute_result"
    }
   ],
   "source": [
    "# Average Math Score\n",
    "\n",
    "average_math_perschool= all_data.groupby([\"school_name\"])[\"math_score\"].mean()\n",
    "average_math_perschool"
   ]
  },
  {
   "cell_type": "code",
   "execution_count": 23,
   "metadata": {},
   "outputs": [
    {
     "data": {
      "text/plain": [
       "school_name\n",
       "Bailey High School       81.033963\n",
       "Cabrera High School      83.975780\n",
       "Figueroa High School     81.158020\n",
       "Ford High School         80.746258\n",
       "Griffin High School      83.816757\n",
       "Hernandez High School    80.934412\n",
       "Holden High School       83.814988\n",
       "Huang High School        81.182722\n",
       "Johnson High School      80.966394\n",
       "Pena High School         84.044699\n",
       "Rodriguez High School    80.744686\n",
       "Shelton High School      83.725724\n",
       "Thomas High School       83.848930\n",
       "Wilson High School       83.989488\n",
       "Wright High School       83.955000\n",
       "Name: reading_score, dtype: float64"
      ]
     },
     "execution_count": 23,
     "metadata": {},
     "output_type": "execute_result"
    }
   ],
   "source": [
    "# Average Reading Score\n",
    "\n",
    "average_reading_perschool= all_data.groupby([\"school_name\"])[\"reading_score\"].mean()\n",
    "average_reading_perschool"
   ]
  },
  {
   "cell_type": "code",
   "execution_count": 24,
   "metadata": {},
   "outputs": [
    {
     "data": {
      "text/plain": [
       "Bailey High School       66.680064\n",
       "Cabrera High School      94.133477\n",
       "Figueroa High School     65.988471\n",
       "Ford High School         68.309602\n",
       "Griffin High School      93.392371\n",
       "Hernandez High School    66.752967\n",
       "Holden High School       92.505855\n",
       "Huang High School        65.683922\n",
       "Johnson High School      66.057551\n",
       "Pena High School         94.594595\n",
       "Rodriguez High School    66.366592\n",
       "Shelton High School      93.867121\n",
       "Thomas High School       93.272171\n",
       "Wilson High School       93.867718\n",
       "Wright High School       93.333333\n",
       "dtype: float64"
      ]
     },
     "execution_count": 24,
     "metadata": {},
     "output_type": "execute_result"
    }
   ],
   "source": [
    "#* % Passing Math per School\n",
    "\n",
    "pas_math_scor = all_data.loc[all_data[\"math_score\"]>=70]\n",
    "pas_math_scor\n",
    "\n",
    "\n",
    "group_math_sch = pas_math_scor[\"school_name\"].value_counts()\n",
    "group_math_sch.head()\n",
    "\n",
    "percent_math = group_math_sch/student_per_school*100\n",
    "percent_math"
   ]
  },
  {
   "cell_type": "code",
   "execution_count": 25,
   "metadata": {},
   "outputs": [
    {
     "data": {
      "text/plain": [
       "Bailey High School       81.933280\n",
       "Cabrera High School      97.039828\n",
       "Figueroa High School     80.739234\n",
       "Ford High School         79.299014\n",
       "Griffin High School      97.138965\n",
       "Hernandez High School    80.862999\n",
       "Holden High School       96.252927\n",
       "Huang High School        81.316421\n",
       "Johnson High School      81.222432\n",
       "Pena High School         95.945946\n",
       "Rodriguez High School    80.220055\n",
       "Shelton High School      95.854628\n",
       "Thomas High School       97.308869\n",
       "Wilson High School       96.539641\n",
       "Wright High School       96.611111\n",
       "dtype: float64"
      ]
     },
     "execution_count": 25,
     "metadata": {},
     "output_type": "execute_result"
    }
   ],
   "source": [
    "# % Passing Reading per School\n",
    "\n",
    "pas_reading_scor = all_data.loc[all_data[\"reading_score\"]>=70]\n",
    "pas_reading_scor\n",
    "\n",
    "group_reading_sch = pas_reading_scor[\"school_name\"].value_counts()\n",
    "group_reading_sch\n",
    "\n",
    "percent_reading = group_reading_sch/student_per_school*100\n",
    "percent_reading"
   ]
  },
  {
   "cell_type": "code",
   "execution_count": 26,
   "metadata": {},
   "outputs": [
    {
     "data": {
      "text/plain": [
       "Bailey High School       66.696530\n",
       "Cabrera High School      94.185705\n",
       "Figueroa High School     66.015849\n",
       "Ford High School         68.338554\n",
       "Griffin High School      93.458542\n",
       "Hernandez High School    66.770413\n",
       "Holden High School       92.731271\n",
       "Huang High School        65.711799\n",
       "Johnson High School      66.074611\n",
       "Pena High School         94.694331\n",
       "Rodriguez High School    66.386652\n",
       "Shelton High School      93.921553\n",
       "Thomas High School       93.331687\n",
       "Wilson High School       93.910004\n",
       "Wright High School       93.387006\n",
       "dtype: float64"
      ]
     },
     "execution_count": 26,
     "metadata": {},
     "output_type": "execute_result"
    }
   ],
   "source": [
    "# Overall Passing Rate\n",
    "\n",
    "overall_pr = percent_math + percent_reading/student_per_school\n",
    "overall_pr"
   ]
  },
  {
   "cell_type": "code",
   "execution_count": 29,
   "metadata": {},
   "outputs": [],
   "source": [
    "# Reset all index\n",
    "school_typreset = school_type.reset_index(drop=True)\n",
    "student_per_schreset = student_per_school.reset_index(drop=True)\n",
    "per_student_budreset = per_student_budget.reset_index(drop=True)\n",
    "school_budreset = school_budget.reset_index(drop=True)\n",
    "average_math_perschreset = average_math_perschool.reset_index(drop=True)\n",
    "average_reading_perschreset = average_reading_perschool.reset_index(drop=True)\n",
    "per_math_reset = percent_math.reset_index(drop=True)\n",
    "per_reading_reset = percent_reading.reset_index(drop=True)\n",
    "overall_prreset = overall_pr.reset_index(drop=True)"
   ]
  },
  {
   "cell_type": "markdown",
   "metadata": {},
   "source": [
    "## ---------------------------------------------------------------------------------------------------------------\n",
    "## NEEDS WORKKKKKK "
   ]
  },
  {
   "cell_type": "code",
   "execution_count": 35,
   "metadata": {},
   "outputs": [
    {
     "data": {
      "text/html": [
       "<div>\n",
       "<style scoped>\n",
       "    .dataframe tbody tr th:only-of-type {\n",
       "        vertical-align: middle;\n",
       "    }\n",
       "\n",
       "    .dataframe tbody tr th {\n",
       "        vertical-align: top;\n",
       "    }\n",
       "\n",
       "    .dataframe thead th {\n",
       "        text-align: right;\n",
       "    }\n",
       "</style>\n",
       "<table border=\"1\" class=\"dataframe\">\n",
       "  <thead>\n",
       "    <tr style=\"text-align: right;\">\n",
       "      <th></th>\n",
       "      <th>School Type</th>\n",
       "      <th>Total Students</th>\n",
       "      <th>Total School Budget</th>\n",
       "      <th>Per Student Budget</th>\n",
       "      <th>Average Math Score</th>\n",
       "      <th>Average Reading Score</th>\n",
       "      <th>% Passing Math</th>\n",
       "      <th>% Passing Reading</th>\n",
       "      <th>% Overall Passing Rate</th>\n",
       "    </tr>\n",
       "  </thead>\n",
       "  <tbody>\n",
       "    <tr>\n",
       "      <th>0</th>\n",
       "      <td>District</td>\n",
       "      <td>4976</td>\n",
       "      <td>3124928</td>\n",
       "      <td>628.0</td>\n",
       "      <td>77.048432</td>\n",
       "      <td>81.033963</td>\n",
       "      <td>66.680064</td>\n",
       "      <td>81.933280</td>\n",
       "      <td>66.696530</td>\n",
       "    </tr>\n",
       "    <tr>\n",
       "      <th>1</th>\n",
       "      <td>District</td>\n",
       "      <td>1858</td>\n",
       "      <td>1081356</td>\n",
       "      <td>582.0</td>\n",
       "      <td>83.061895</td>\n",
       "      <td>83.975780</td>\n",
       "      <td>94.133477</td>\n",
       "      <td>97.039828</td>\n",
       "      <td>94.185705</td>\n",
       "    </tr>\n",
       "    <tr>\n",
       "      <th>2</th>\n",
       "      <td>Charter</td>\n",
       "      <td>2949</td>\n",
       "      <td>1884411</td>\n",
       "      <td>639.0</td>\n",
       "      <td>76.711767</td>\n",
       "      <td>81.158020</td>\n",
       "      <td>65.988471</td>\n",
       "      <td>80.739234</td>\n",
       "      <td>66.015849</td>\n",
       "    </tr>\n",
       "    <tr>\n",
       "      <th>3</th>\n",
       "      <td>District</td>\n",
       "      <td>2739</td>\n",
       "      <td>1763916</td>\n",
       "      <td>644.0</td>\n",
       "      <td>77.102592</td>\n",
       "      <td>80.746258</td>\n",
       "      <td>68.309602</td>\n",
       "      <td>79.299014</td>\n",
       "      <td>68.338554</td>\n",
       "    </tr>\n",
       "    <tr>\n",
       "      <th>4</th>\n",
       "      <td>Charter</td>\n",
       "      <td>1468</td>\n",
       "      <td>917500</td>\n",
       "      <td>625.0</td>\n",
       "      <td>83.351499</td>\n",
       "      <td>83.816757</td>\n",
       "      <td>93.392371</td>\n",
       "      <td>97.138965</td>\n",
       "      <td>93.458542</td>\n",
       "    </tr>\n",
       "    <tr>\n",
       "      <th>5</th>\n",
       "      <td>Charter</td>\n",
       "      <td>4635</td>\n",
       "      <td>3022020</td>\n",
       "      <td>652.0</td>\n",
       "      <td>77.289752</td>\n",
       "      <td>80.934412</td>\n",
       "      <td>66.752967</td>\n",
       "      <td>80.862999</td>\n",
       "      <td>66.770413</td>\n",
       "    </tr>\n",
       "    <tr>\n",
       "      <th>6</th>\n",
       "      <td>Charter</td>\n",
       "      <td>427</td>\n",
       "      <td>248087</td>\n",
       "      <td>581.0</td>\n",
       "      <td>83.803279</td>\n",
       "      <td>83.814988</td>\n",
       "      <td>92.505855</td>\n",
       "      <td>96.252927</td>\n",
       "      <td>92.731271</td>\n",
       "    </tr>\n",
       "    <tr>\n",
       "      <th>7</th>\n",
       "      <td>District</td>\n",
       "      <td>2917</td>\n",
       "      <td>1910635</td>\n",
       "      <td>655.0</td>\n",
       "      <td>76.629414</td>\n",
       "      <td>81.182722</td>\n",
       "      <td>65.683922</td>\n",
       "      <td>81.316421</td>\n",
       "      <td>65.711799</td>\n",
       "    </tr>\n",
       "    <tr>\n",
       "      <th>8</th>\n",
       "      <td>Charter</td>\n",
       "      <td>4761</td>\n",
       "      <td>3094650</td>\n",
       "      <td>650.0</td>\n",
       "      <td>77.072464</td>\n",
       "      <td>80.966394</td>\n",
       "      <td>66.057551</td>\n",
       "      <td>81.222432</td>\n",
       "      <td>66.074611</td>\n",
       "    </tr>\n",
       "    <tr>\n",
       "      <th>9</th>\n",
       "      <td>Charter</td>\n",
       "      <td>962</td>\n",
       "      <td>585858</td>\n",
       "      <td>609.0</td>\n",
       "      <td>83.839917</td>\n",
       "      <td>84.044699</td>\n",
       "      <td>94.594595</td>\n",
       "      <td>95.945946</td>\n",
       "      <td>94.694331</td>\n",
       "    </tr>\n",
       "    <tr>\n",
       "      <th>10</th>\n",
       "      <td>Charter</td>\n",
       "      <td>3999</td>\n",
       "      <td>2547363</td>\n",
       "      <td>637.0</td>\n",
       "      <td>76.842711</td>\n",
       "      <td>80.744686</td>\n",
       "      <td>66.366592</td>\n",
       "      <td>80.220055</td>\n",
       "      <td>66.386652</td>\n",
       "    </tr>\n",
       "    <tr>\n",
       "      <th>11</th>\n",
       "      <td>District</td>\n",
       "      <td>1761</td>\n",
       "      <td>1056600</td>\n",
       "      <td>600.0</td>\n",
       "      <td>83.359455</td>\n",
       "      <td>83.725724</td>\n",
       "      <td>93.867121</td>\n",
       "      <td>95.854628</td>\n",
       "      <td>93.921553</td>\n",
       "    </tr>\n",
       "    <tr>\n",
       "      <th>12</th>\n",
       "      <td>District</td>\n",
       "      <td>1635</td>\n",
       "      <td>1043130</td>\n",
       "      <td>638.0</td>\n",
       "      <td>83.418349</td>\n",
       "      <td>83.848930</td>\n",
       "      <td>93.272171</td>\n",
       "      <td>97.308869</td>\n",
       "      <td>93.331687</td>\n",
       "    </tr>\n",
       "    <tr>\n",
       "      <th>13</th>\n",
       "      <td>District</td>\n",
       "      <td>2283</td>\n",
       "      <td>1319574</td>\n",
       "      <td>578.0</td>\n",
       "      <td>83.274201</td>\n",
       "      <td>83.989488</td>\n",
       "      <td>93.867718</td>\n",
       "      <td>96.539641</td>\n",
       "      <td>93.910004</td>\n",
       "    </tr>\n",
       "    <tr>\n",
       "      <th>14</th>\n",
       "      <td>Charter</td>\n",
       "      <td>1800</td>\n",
       "      <td>1049400</td>\n",
       "      <td>583.0</td>\n",
       "      <td>83.682222</td>\n",
       "      <td>83.955000</td>\n",
       "      <td>93.333333</td>\n",
       "      <td>96.611111</td>\n",
       "      <td>93.387006</td>\n",
       "    </tr>\n",
       "  </tbody>\n",
       "</table>\n",
       "</div>"
      ],
      "text/plain": [
       "   School Type  Total Students  Total School Budget  Per Student Budget  \\\n",
       "0     District            4976              3124928               628.0   \n",
       "1     District            1858              1081356               582.0   \n",
       "2      Charter            2949              1884411               639.0   \n",
       "3     District            2739              1763916               644.0   \n",
       "4      Charter            1468               917500               625.0   \n",
       "5      Charter            4635              3022020               652.0   \n",
       "6      Charter             427               248087               581.0   \n",
       "7     District            2917              1910635               655.0   \n",
       "8      Charter            4761              3094650               650.0   \n",
       "9      Charter             962               585858               609.0   \n",
       "10     Charter            3999              2547363               637.0   \n",
       "11    District            1761              1056600               600.0   \n",
       "12    District            1635              1043130               638.0   \n",
       "13    District            2283              1319574               578.0   \n",
       "14     Charter            1800              1049400               583.0   \n",
       "\n",
       "    Average Math Score  Average Reading Score  % Passing Math  \\\n",
       "0            77.048432              81.033963       66.680064   \n",
       "1            83.061895              83.975780       94.133477   \n",
       "2            76.711767              81.158020       65.988471   \n",
       "3            77.102592              80.746258       68.309602   \n",
       "4            83.351499              83.816757       93.392371   \n",
       "5            77.289752              80.934412       66.752967   \n",
       "6            83.803279              83.814988       92.505855   \n",
       "7            76.629414              81.182722       65.683922   \n",
       "8            77.072464              80.966394       66.057551   \n",
       "9            83.839917              84.044699       94.594595   \n",
       "10           76.842711              80.744686       66.366592   \n",
       "11           83.359455              83.725724       93.867121   \n",
       "12           83.418349              83.848930       93.272171   \n",
       "13           83.274201              83.989488       93.867718   \n",
       "14           83.682222              83.955000       93.333333   \n",
       "\n",
       "    % Passing Reading  % Overall Passing Rate  \n",
       "0           81.933280               66.696530  \n",
       "1           97.039828               94.185705  \n",
       "2           80.739234               66.015849  \n",
       "3           79.299014               68.338554  \n",
       "4           97.138965               93.458542  \n",
       "5           80.862999               66.770413  \n",
       "6           96.252927               92.731271  \n",
       "7           81.316421               65.711799  \n",
       "8           81.222432               66.074611  \n",
       "9           95.945946               94.694331  \n",
       "10          80.220055               66.386652  \n",
       "11          95.854628               93.921553  \n",
       "12          97.308869               93.331687  \n",
       "13          96.539641               93.910004  \n",
       "14          96.611111               93.387006  "
      ]
     },
     "execution_count": 35,
     "metadata": {},
     "output_type": "execute_result"
    }
   ],
   "source": [
    "#School Summary Table\n",
    "\n",
    "summary_df = pd.DataFrame({\"School Type\":school_typreset, \"Total Students\":student_per_schreset, \"Total School Budget\":school_budreset, \"Per Student Budget\":per_student_budreset, \"Average Math Score\":average_math_perschreset, \"Average Reading Score\":average_reading_perschreset, \"% Passing Math\":per_math_reset, \"% Passing Reading\":per_reading_reset, \"% Overall Passing Rate\":overall_prreset})\n",
    "summary_df\n",
    "\n",
    "#school_summary[\"School Name\"] = pd.cut(all_data[\"School Name\"]/summary_df[\"School Name\"])\n",
    "#school_summary\n",
    "\n",
    "#school_summary_df = school_summary.groupby([\"School Name\"])\n",
    "#school_summary_df"
   ]
  },
  {
   "cell_type": "markdown",
   "metadata": {},
   "source": [
    "## ---------------------------------------------------------------------------------------------------------------------------------\n",
    "\n",
    "## Top Performing Schools (By Passing Rate)"
   ]
  },
  {
   "cell_type": "markdown",
   "metadata": {},
   "source": [
    "* Sort and display the top five schools in overall passing rate"
   ]
  },
  {
   "cell_type": "code",
   "execution_count": null,
   "metadata": {},
   "outputs": [],
   "source": [
    "school_summary_df.head()"
   ]
  },
  {
   "cell_type": "code",
   "execution_count": null,
   "metadata": {},
   "outputs": [],
   "source": [
    "# Top 5 Schools\n",
    "\n",
    "top_schools = school_summary_df.sort_values(by=['% Overall Passing Rate'], ascending=False)\n",
    "\n",
    "top_schools.head(5)"
   ]
  },
  {
   "cell_type": "markdown",
   "metadata": {},
   "source": [
    "## ---------------------------------------------------------------------------------------------------------------------------------\n",
    "\n",
    "## Bottom Performing Schools (By Passing Rate)"
   ]
  },
  {
   "cell_type": "markdown",
   "metadata": {},
   "source": [
    "* Sort and display the five worst-performing schools"
   ]
  },
  {
   "cell_type": "code",
   "execution_count": null,
   "metadata": {},
   "outputs": [],
   "source": [
    "school_summary_df.head()"
   ]
  },
  {
   "cell_type": "code",
   "execution_count": null,
   "metadata": {},
   "outputs": [],
   "source": [
    "# Bottom 5 Schools\n",
    "\n",
    "bottom_schools = school_summary_df.sort_values(by=['% Overall Passing Rate'], ascending=True)\n",
    "bottom_schools.head(5)"
   ]
  },
  {
   "cell_type": "markdown",
   "metadata": {
    "collapsed": true
   },
   "source": [
    "## ---------------------------------------------------------------------------------------------------------------------------------\n",
    "## Math Scores by Grade"
   ]
  },
  {
   "cell_type": "markdown",
   "metadata": {},
   "source": [
    "* Create a table that lists the average Reading Score for students of each grade level (9th, 10th, 11th, 12th) at each school.\n",
    "\n",
    "  * Create a pandas series for each grade. Hint: use a conditional statement.\n",
    "  \n",
    "  * Group each series by school\n",
    "  \n",
    "  * Combine the series into a dataframe\n",
    "  \n",
    "  * Optional: give the displayed data cleaner formatting"
   ]
  },
  {
   "cell_type": "code",
   "execution_count": null,
   "metadata": {},
   "outputs": [],
   "source": [
    "# Math Scores by Grade\n",
    "\n",
    "math_9th = student_data.loc[student_data[\"grade\"] == \"9th\"].groupby([\"school_name\"])['math_score'].mean()\n",
    "math_9th\n",
    "math_10th = student_data.loc[student_data[\"grade\"] == \"10th\"].groupby([\"school_name\"])['math_score'].mean()\n",
    "math_10th\n",
    "math_11th = student_data.loc[student_data[\"grade\"] == \"11th\"].groupby([\"school_name\"])['math_score'].mean()\n",
    "math_11th\n",
    "math_12th = student_data.loc[student_data[\"grade\"] == \"12th\"].groupby([\"school_name\"])['math_score'].mean()\n",
    "math_12th\n",
    "\n",
    "math_table = pd.DataFrame({\"9th\":math_9th, \"10th\":math_10th, \"11th\":math_11th, \"12th\":math_12th})\n",
    "math_table"
   ]
  },
  {
   "cell_type": "markdown",
   "metadata": {},
   "source": [
    "## ---------------------------------------------------------------------------------------------------------------------------------\n",
    "## Reading Score by Grade "
   ]
  },
  {
   "cell_type": "markdown",
   "metadata": {},
   "source": [
    "* Perform the same operations as above for reading scores"
   ]
  },
  {
   "cell_type": "code",
   "execution_count": null,
   "metadata": {},
   "outputs": [],
   "source": [
    "# Reading Scores by Grade\n",
    "\n",
    "reading_9th = student_data.loc[student_data[\"grade\"] == \"9th\"].groupby([\"school_name\"])['reading_score'].mean()\n",
    "reading_9th\n",
    "reading_10th = student_data.loc[student_data[\"grade\"] == \"10th\"].groupby([\"school_name\"])['reading_score'].mean()\n",
    "reading_10th\n",
    "reading_11th = student_data.loc[student_data[\"grade\"] == \"11th\"].groupby([\"school_name\"])['reading_score'].mean()\n",
    "reading_11th\n",
    "reading_12th = student_data.loc[student_data[\"grade\"] == \"12th\"].groupby([\"school_name\"])['reading_score'].mean()\n",
    "reading_12th\n",
    "\n",
    "reading_table = pd.DataFrame({\"9th\":reading_9th, \"10th\":reading_10th, \"11th\":reading_11th, \"12th\":reading_12th})\n",
    "reading_table"
   ]
  },
  {
   "cell_type": "markdown",
   "metadata": {},
   "source": [
    "## ---------------------------------------------------------------------------------------------------------------------------------\n",
    "## Scores by School Spending"
   ]
  },
  {
   "cell_type": "markdown",
   "metadata": {},
   "source": [
    "* Create a table that breaks down school performances based on average Spending Ranges (Per Student). Use 4 reasonable bins to group school spending. Include in the table each of the following:\n",
    "  * Average Math Score\n",
    "  * Average Reading Score\n",
    "  * % Passing Math\n",
    "  * % Passing Reading\n",
    "  * Overall Passing Rate (Average of the above two)"
   ]
  },
  {
   "cell_type": "code",
   "execution_count": null,
   "metadata": {},
   "outputs": [],
   "source": [
    "school_summary_df.head()"
   ]
  },
  {
   "cell_type": "code",
   "execution_count": null,
   "metadata": {},
   "outputs": [],
   "source": [
    "# Sample bins. Feel free to create your own bins.\n",
    "spending_bins = [0, 585, 615, 645, 675]\n",
    "group_names = [\"<$585\", \"$585-615\", \"$615-645\", \"$645-675\"]"
   ]
  },
  {
   "cell_type": "code",
   "execution_count": null,
   "metadata": {},
   "outputs": [],
   "source": [
    "school_summary_df[\"Spending Ranges (Per Student)\"] = pd.cut(school_summary_df[\"Total School Budget\"]/school_summary_df[\"Total Students\"], spending_bins, labels=group_names)\n",
    "school_summary_df\n",
    "\n",
    "score_by_spending = school_summary_df.drop(columns=[\"School Type\", \"Total Students\", \"Total School Budget\", \"Per Student Budget\"])\n",
    "score_by_spending"
   ]
  },
  {
   "cell_type": "code",
   "execution_count": null,
   "metadata": {},
   "outputs": [],
   "source": [
    "#Scores by Spending \n",
    "\n",
    "range_by_spending = score_by_spending.groupby([\"Spending Ranges (Per Student)\"])\n",
    "range_by_spending.mean()"
   ]
  },
  {
   "cell_type": "markdown",
   "metadata": {},
   "source": [
    "## ---------------------------------------------------------------------------------------------------------------------------------\n",
    "## Scores by School Size "
   ]
  },
  {
   "cell_type": "markdown",
   "metadata": {},
   "source": [
    "* Perform the same operations as above, based on school size."
   ]
  },
  {
   "cell_type": "code",
   "execution_count": null,
   "metadata": {},
   "outputs": [],
   "source": [
    "school_summary_df.head()"
   ]
  },
  {
   "cell_type": "code",
   "execution_count": null,
   "metadata": {},
   "outputs": [],
   "source": [
    "# Sample bins. Feel free to create your own bins.\n",
    "size_bins = [0, 1000, 2000, 5000]\n",
    "group_names = [\"Small (<1000)\", \"Medium (1000-2000)\", \"Large (2000-5000)\"]"
   ]
  },
  {
   "cell_type": "code",
   "execution_count": null,
   "metadata": {},
   "outputs": [],
   "source": [
    "type(\"School Size\")"
   ]
  },
  {
   "cell_type": "code",
   "execution_count": null,
   "metadata": {},
   "outputs": [],
   "source": [
    "school_summary_df[\"School Size\"] = pd.cut(school_summary_df[\"Total Students\"], size_bins, labels=group_names)\n",
    "school_summary_df.head()"
   ]
  },
  {
   "cell_type": "code",
   "execution_count": null,
   "metadata": {
    "scrolled": true
   },
   "outputs": [],
   "source": [
    "score_by_size = school_summary_df.drop(columns=[\"School Type\", \"Total Students\", \"Total School Budget\", \"Per Student Budget\"])\n",
    "score_by_size"
   ]
  },
  {
   "cell_type": "code",
   "execution_count": null,
   "metadata": {},
   "outputs": [],
   "source": [
    "#Scores by Size \n",
    "\n",
    "\n",
    "school_size = score_by_size.groupby([\"School Size\"])\n",
    "school_size.mean()"
   ]
  },
  {
   "cell_type": "markdown",
   "metadata": {},
   "source": [
    "## Scores by School Type "
   ]
  },
  {
   "cell_type": "markdown",
   "metadata": {},
   "source": [
    "* Perform the same operations as above, based on school type."
   ]
  },
  {
   "cell_type": "code",
   "execution_count": null,
   "metadata": {},
   "outputs": [],
   "source": [
    "school_summary_df.head()"
   ]
  },
  {
   "cell_type": "code",
   "execution_count": null,
   "metadata": {},
   "outputs": [],
   "source": [
    "scores_by_type = school_summary_df.drop(columns=[\"Total Students\", \"Total School Budget\", \"Per Student Budget\", \"Spending Ranges (Per Student)\", \"School Size\"])\n",
    "scores_by_type.head()"
   ]
  },
  {
   "cell_type": "code",
   "execution_count": null,
   "metadata": {},
   "outputs": [],
   "source": [
    "#Scores by Type of School\n",
    "\n",
    "scores_type = scores_by_type.groupby([\"School Type\"])\n",
    "scores_type.mean()"
   ]
  },
  {
   "cell_type": "markdown",
   "metadata": {},
   "source": [
    "You must include a written description of at least two observable trends based on the data."
   ]
  },
  {
   "cell_type": "code",
   "execution_count": null,
   "metadata": {},
   "outputs": [],
   "source": []
  }
 ],
 "metadata": {
  "anaconda-cloud": {},
  "kernel_info": {
   "name": "python3"
  },
  "kernelspec": {
   "display_name": "Python 3",
   "language": "python",
   "name": "python3"
  },
  "language_info": {
   "codemirror_mode": {
    "name": "ipython",
    "version": 3
   },
   "file_extension": ".py",
   "mimetype": "text/x-python",
   "name": "python",
   "nbconvert_exporter": "python",
   "pygments_lexer": "ipython3",
   "version": "3.7.6"
  },
  "latex_envs": {
   "LaTeX_envs_menu_present": true,
   "autoclose": false,
   "autocomplete": true,
   "bibliofile": "biblio.bib",
   "cite_by": "apalike",
   "current_citInitial": 1,
   "eqLabelWithNumbers": true,
   "eqNumInitial": 1,
   "hotkeys": {
    "equation": "Ctrl-E",
    "itemize": "Ctrl-I"
   },
   "labels_anchors": false,
   "latex_user_defs": false,
   "report_style_numbering": false,
   "user_envs_cfg": false
  },
  "nteract": {
   "version": "0.8.4"
  }
 },
 "nbformat": 4,
 "nbformat_minor": 1
}
